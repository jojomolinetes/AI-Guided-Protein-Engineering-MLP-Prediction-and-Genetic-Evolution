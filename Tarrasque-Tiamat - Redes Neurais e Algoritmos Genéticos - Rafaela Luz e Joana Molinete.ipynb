{
 "cells": [
  {
   "cell_type": "markdown",
   "id": "fb204f1d",
   "metadata": {},
   "source": [
    "# Tarrasque-Tiamat: Trabalho final de Redes Neurais (RN) e Algoritmos Genéticos (AG)\n",
    "## Joana de Medeiros Oliveira Hulse Molinete e Rafaela Beatriz Silva Luz\n",
    "\n",
    "## Introdução\n",
    "\n",
    "No presente trabalho, combinamos o uso de Redes Neurais (RN) do tipo **Multilayer Perceptron (MLP)** e de **Algoritmos Genéticos (AG)** para prever a temperatura de *melting* (Tm) de proteínas a partir de suas sequências de aminoácidos e gerar novas sequências de aminoácidos otimizadas para maior estabilidade térmica, por meio da evolução dirigida via algoritmos genéticos.\n",
    " \n",
    "A temperatura de *melting* é definida como o ponto no qual 50% das moléculas de uma proteína perdem sua estrutura nativa (desnaturam), o que a torna um importante indicador de estabilidade térmica [[3]](https://www.nature.com/articles/s41598-025-98667-9). Essa propriedade é crucial em diversas aplicações de biotecnologia e bioengenharia, como no desenvolvimento de enzimas industriais que operam em altas temperaturas, projeções de proteínas que possuem maior resistência à degradação, estudos de variantes proteicas menos suscetíveis à desnaturação para aplicação em farmacologia e medicina, etc. Tradicionalmente, determinar a *Tm* de uma proteína exige experimentação laboratorial, o que torna o processo custoso e demorado, especialmente com grandes bancos de dados de proteínas ou no projeto de novas sequências.\n",
    " \n",
    "Nesse contexto, propomos uma abordagem baseada em aprendizado de máquina para prever a *Tm* de proteínas diretamente de sua sequência de aminoácidos. Para isso, codificamos as sequências utilizando embeddings de linguagem baseados em modelos pré-treinados (ProtBERT), e treinamos uma rede MLP otimizada com Optuna para resolver esse problema de regressão. Com os dados de saída da rede, construímos um algoritmo genético, cujo objetivo é evoluir novas sequências de aminoácidos que maximizem a *Tm* predita pelo modelo. Assim, o AG atua como um mecanismo de busca no espaço de sequências, guiado pela predição da MLP como função de fitness.\n",
    " \n",
    "Este *notebook* apresenta todas as etapas do processo, incluindo:\n",
    " \n",
    "- Pré-processamento dos dados e codificação das sequências;\n",
    "- Construção e otimização da arquitetura da MLP (utilizando **Optuna** para ajuste de hiperparâmetros);\n",
    "- Implementação e execução do algoritmo genético para geração de novas sequências de aminoácidos;\n",
    "- Avaliação do desempenho do modelo e análise dos melhores indivíduos (*hall da fama*);\n",
    "- Discussão dos resultados.\n",
    " \n",
    "Esperamos demonstrar que essa combinação de modelos preditivos e algoritmos evolutivos é uma poderosa ferramenta para acelerar a descoberta de biomoléculas com propriedades desejadas.\n",
    "\n",
    "### Proposta\n",
    "\n",
    "Devido ao interesse na área, os estudantes buscaram por um problema em Design de Proteínas. Em conversa com o professor Daniel Roberto Cassar, o mesmo aconselhou o uso de MLP como função objetivo de AG como uma estratégia para realizar ambos os trabalhos finais (Tarrasque e Tiamat) de forma conjunta. Após pesquisas na internet que geraram *insights* — como tentar fazer uma evolução dirigida de sequências de aminoácidos, buscando otimizar alguma característica quantificável —, mas não uma ideia concreta e realizável de um problema a ser proposto, o professor Leandro Nascimento Lemos, pesquisador na área de bioinformática, foi procurado e recomendou que os estudantes consultassem o pesquisador Helder Veras Ribeiro Filho, que estuda design de proteínas com aplicação de *Machine Learning* (ML) no LNBio. Ao apresentarmos enunciado, ideias e tempo de trabalho, Helder sugeriu o uso do Protbert para representar sequências de aminoácidos para uma função objetivo em Rede Neural (RN) que predissesse as temperaturas de *melting* (TM) e que essa RN fosse usada como função objetivo de uma evolução dirigida (Algoritmos Genéticos - AG) de sequências de aminoácidos. Agradecemos profundamente aos envolvidos no desenvolvimento da proposta e objetivos deste trabalho.\n",
    "\n",
    "### Objetivo\n",
    "\n",
    "Realizar a evolução dirigida (Algoritmos Genéticos - AG) de sequências de aminoácidos (atributos) de proteínas objetivando maiores valores do indicador de estabilidade temperatura de *melting* previstos por uma função objetivo em Redes Neurais (RN) do tipo *perceptron* multicamadas (MLP). \n",
    "\n",
    "#### Objetivos específicos\n",
    "\n",
    "1. Obter atributos legíveis para a MLP e que representem as sequências de aminoácidos das proteínas. Isso será feito a partir da obtenção de embeddings médios - representantes das sequências de aminoácidos de treino, teste e validação - através de um modelo pré-treinado em sequências de proteínas usando um objetivo de modelagem de linguagem mascarada (MLM) do ProtTrans [[1]](https://doi.org/10.1101/2020.07.12.199554).\n",
    "\n",
    "2. Otimizar hiperparâmetros com Optuna [[2]](https://optuna.org/) e treinar uma MLP para regressão do *target* temperatura de *melting* a partir dos atributos mencionados no objetivo 1 (representações das sequências de aminoácidos de proteínas/peptídeos do ProtTrans [[1]](https://doi.org/10.1101/2020.07.12.199554)). Os datasets usados serão os presentes neste [link](https://webs.iiitd.edu.in/raghava/pptstab/data.html), correspondentes ao artigo [[3]](https://www.nature.com/articles/s41598-025-98667-9).\n",
    "\n",
    "3. Realizar uma evolução dirigida (AG) a partir de sequências do dataset não expostas à MLP visando obter sequências com maiores temperaturas de *melting* previstas pela MLP, que será a função de objetivo para maximização no AG.  \n",
    "\n",
    "### *Datasets*\n",
    "\n",
    "Os *datasets* usados foram disponibilizados no [link](https://webs.iiitd.edu.in/raghava/pptstab/data.html) como dados usados para o trabalho [[3]](https://www.nature.com/articles/s41598-025-98667-9): \"Previsão e projeto de proteínas termoestáveis com uma temperatura de *melting* desejada\", em tradução livre. Uma característica relevante desses conjuntos de dados é que os autores evitaram a redundância nas sequências de aminoácidos utilizadas para uma maior robustez da sua previsão de temperatura de *melting*, sendo que nenhuma sequência apresenta mais que 40% de semelhança com outra dos *datasets*. \n",
    "\n",
    "Neste trabalho, pretendeu-se usar o *dataset* de treino do artigo [[3]](https://www.nature.com/articles/s41598-025-98667-9) para treino da MLP para predição de temperatura de *melting* e o *dataset* de validação do *paper* para validação e teste (com *split* de metade dos dados para cada tipo, evitando o vazamento de dados) da MLP. No entanto, devido à limitação de tempo de uso do HPC e de entrega do trabalho, optou-se finalmente por usar primeiras poucas centenas do *dataset* de treino da fonte para todo o trabalho, realizando o devido *split* e tratamento de treino, validação e teste.\n",
    "\n",
    "Para a evolução dirigida, geraremos sequências de aminoácidos aleatórias de tamanho variável como população inicial para evolução. Reconhecemos que esse método não necessariamente produz sequências válidas para proteínas, ou seja, peptídeos suficientemente estáveis que se enovelem, mas o cruzamento entre sequências de proteínas existentes com pontos de partição do *crossover* aleatórios também não o fariam e, por ora, consideramos que, para o nível deste trabalho e pelo aprendizado ainda assim obtido, essa é uma condição razoável. Isso não retira a possibilidade de atualização futura do mesmo, tornando-o mais aplicável.\n",
    "\n",
    "### Representação de sequência de aminoácidos por *embedding* médio do ProtTrans\n",
    "\n",
    "ProtTrans [[1]](https://doi.org/10.1101/2020.07.12.199554) testou vários Modelos de Linguagem (ML) extraídos de Processamento de Linguagem Natural (NLP) para representar sequências de aminoácidos de proteínas ([GitHub](https://github.com/agemagician/ProtTrans)). Entre eles, ProtT5, que apresentou melhor desempenho em [[1]](https://doi.org/10.1101/2020.07.12.199554); e [ProtBert](https://huggingface.co/Rostlab/prot_bert), que integrou o modelo de melhor desempenho para previsão de temperatura de *melting* em [[3]](https://www.nature.com/articles/s41598-025-98667-9), fonte do nosso dataset, e recomendado pelo pesquisador Helder Filho, consultado durante a procura pelo tema do trabalho. A redução da dimensionalidade revelou que os *embeddings* de LM de proteínas, obtidos a partir de dados não rotulados, capturaram algumas características biofísicas de sequências de proteínas. O trabalho também validou a vantagem de usar esses *embeddings* como entrada exclusiva para várias tarefas subsequentes.\n",
    "\n",
    "O *embedding* médio da última camada (`last_hidden_state`) de um LM usado pelo ProtTrans é uma representação vetorial de tamanho fixo predita para uma sequência de aminoácidos. No presente trabalho, usaremos os *embeddings* médios do ProtBert para representar as sequências de aminoácidos das proteínas/peptídeos para predição do *target* por MLP.\n",
    "\n",
    "### MLP para predição da temperatura de *melting* a partir da representação de sequência do ProtTrans\n",
    " \n",
    "O vetor fixo que resume a informação da proteína foi utilizado como entrada para a rede neural. A MLP foi construída de forma flexível, com arquitetura ajustável via otimização de hiperparâmetros. Os principais componentes do modelo incluem:\n",
    " \n",
    "- **Camadas totalmente conectadas (linear layers)**: variando de 1 a 3 camadas ocultas.\n",
    "- **Número de neurônios por camada**: entre 8 e 64.\n",
    "- **Funções de ativação**: ReLU, Tanh e Sigmoid.\n",
    "- **Função de perda**: erro quadrático médio (MSELoss), consideramos a mais adequada para o problema de regressão.\n",
    "- **Otimizadores testados**: Adam, SGD e RMSprop.\n",
    "- **Taxa de aprendizado**: entre 1e-5 e 1e_2, ajustada com a montagem da rede.\n",
    " \n",
    "A função (`cria_rede_final()`) gera a arquitetura dinamicamente com base nos hiperparâmetros fornecidos.\n",
    " \n",
    "O modelo foi treinado com **dados normalizados** por normalização de máximo absoluto. Mesmo que os dados já viessem normalizados do dataset, foi necessário normalizá-los novamente porque houve uma mudança distoante do espaço de busca (de ~30.000 sequências para 1000 utilizadas). Optamos por realizar a validação em um conjunto separado de dados para avaliar o desempenho. \n",
    "Para garantir robustez ao modelo implementamos treinamento amostral, parada antecipada (early stopping) e salvamento e carregamento dos melhores pesos obtidos durante o treinamento.\n",
    " \n",
    "Os dados de treino, validação e teste foram convertidos para tensores do PyTorch e tratados como tensores float32.\n",
    " \n",
    "Utilizamos a biblioteca [**Optuna**](https://optuna.org/) [[4]](https://github.com/optuna/optuna-examples/blob/main/pytorch/pytorch_simple.py) para encontrar os melhores hiperparâmetros de forma automatizada. O objetivo da otimização era **minimizar o erro quadrático médio (MSE)** sobre o conjunto de validação. Mais de 100 arquiteturas diferentes foram testadas, variando o número de camadas e neurônios, tipo de ativação, otimizador e taxa de aprendizado.\n",
    " \n",
    "O desempenho da rede foi avaliado com base na **raiz quadrada do erro quadrático médio (RMSE)**. As curvas de treinamento e validação foram registradas a cada época, possibilitando uma análise clara da convergência e da generalização do modelo.\n",
    " \n",
    "### Evolução dirigida em AG de sequências de aminoácidos visando a maior temperatura de *melting* predita pela MLP\n",
    " \n",
    "Após treinar uma rede neural MLP capaz de prever a temperatura de *melting* de proteínas com base em representações vetoriais derivadas do modelo ProtTrans, aplicamos um algoritmo genético para simular uma **evolução dirigida *in silico***. O objetivo foi gerar novas sequências de aminoácidos que maximizassem a temperatura *Tm* predita. A inspiração para trabalhar com evolução dirigida veio de fontes como [[7]](https://doi.org/10.1093/protein/gzg077) e [[4]](https://doi.org/10.1016/j.jtbi.2008.11.005).\n",
    " \n",
    "Nesse processo, cada indivíduo da população representa uma sequência de proteína/peptídeo, composta por cadeias de aminoácidos sorteados entre os 20 presentes na natureza. A população inicial foi criada aleatoriamente, e a cada geração os indivíduos passam por cruzamento e mutação. A estratégia de cruzamento utilizada foi a **two-point crossover** (cruzamento com dois pontos de troca), e a mutação implementada foi a **indel** (inserção-deleção de genes), que consiste na substituição aleatória de um aminoácido por outro ou deleção do aminoácido da sequência original, com probabilidade ajustável.\n",
    " \n",
    "A avaliação do fitness foi feita de maneira indireta: cada sequência é primeiro convertida em um `embedding` utilizando o modelo ProtBert, e esse vetor é então passado pela MLP treinada para obter uma previsão da temperatura de *melting*. Assim, o AG é guiado não por uma fórmula explícita, mas pelo conhecimento aprendido pela rede neural a partir de dados reais.\n",
    " \n",
    "Estatísticas como média, desvio padrão e valor máximo do fitness por geração foram coletadas para monitorar o desempenho do algoritmo ao longo do tempo, e os indivíduos de melhor fitness foram armazenados em um \"hall da fama\" para análise.\n",
    "\n",
    "## Desenvolvimento\n"
   ]
  },
  {
   "cell_type": "markdown",
   "id": "f194cc12",
   "metadata": {},
   "source": [
    "#### Bibliotecas e constantes"
   ]
  },
  {
   "cell_type": "code",
   "execution_count": 1,
   "id": "30f7e248",
   "metadata": {},
   "outputs": [],
   "source": [
    "import pandas as pd\n",
    "import numpy as np\n",
    "import random as rd\n",
    "import seaborn as sns\n",
    "\n",
    "from transformers import BertModel, BertTokenizer\n",
    "import re\n",
    "\n",
    "import optuna\n",
    "\n",
    "import torch\n",
    "import torch.nn as nn\n",
    "import torch.optim as optim\n",
    "\n",
    "from sklearn.metrics import mean_squared_error\n",
    "from sklearn.model_selection import train_test_split\n",
    "from sklearn.preprocessing import MaxAbsScaler\n",
    "\n",
    "from deap import base\n",
    "from deap import tools\n",
    "from deap import creator\n",
    "from deap.algorithms import eaSimple"
   ]
  },
  {
   "cell_type": "code",
   "execution_count": 2,
   "id": "bd352c4f",
   "metadata": {},
   "outputs": [],
   "source": [
    "GENES_GA = \"sequence\"\n",
    "ATRIBUTOS = [f\"{i}\" for i in range(1, 1025)]\n",
    "TARGET = \"tm\""
   ]
  },
  {
   "cell_type": "markdown",
   "id": "48548e9e",
   "metadata": {},
   "source": [
    "### Conversão das sequências de aminoácidos para vetores (atributos para MLP) com ProtBert "
   ]
  },
  {
   "cell_type": "markdown",
   "id": "301712e1",
   "metadata": {},
   "source": [
    "Primeiro, carregamos o tokenizador e o modelo do ProtBert."
   ]
  },
  {
   "cell_type": "code",
   "execution_count": 3,
   "id": "fc07134c",
   "metadata": {},
   "outputs": [],
   "source": [
    "tokenizer = BertTokenizer.from_pretrained(\"Rostlab/prot_bert\", do_lower_case=False)\n",
    "model = BertModel.from_pretrained(\"Rostlab/prot_bert\")"
   ]
  },
  {
   "cell_type": "markdown",
   "id": "9c6f1bf9",
   "metadata": {},
   "source": [
    "Criamos o *dataframe* a partir do *dataset* utilizado. `embeddings` é uma lista que recebe os vetores (*embeddings* médios) que representam cada sequência de aminoácidos. A coluna de atributos para a MLP receberá esses *embeddings*, sendo que cada linha receberá o *embedding* de 1024 elementos previsto pelo ProtBert para representar sua sequência de aminoácidos. Cada um dos 1024 elementos serão normalizados por normalização de máximo absoluto para depois servirem para o treino da RN. A parte de tratamento de *dataframe* com Pandas foi otimizada com ajuda do [ChatGPT](https://chatgpt.com/share/6848bba6-4734-8005-a63b-6835f6c401db)."
   ]
  },
  {
   "cell_type": "code",
   "execution_count": 4,
   "id": "4ca1da83-5bb2-4edd-966d-2ef804b66db2",
   "metadata": {},
   "outputs": [],
   "source": [
    "def representacao_protbert(individuo):\n",
    "    \"\"\"Recebe uma lista de aminoácidos (indivíduo) e retorna o embedding médio\n",
    "    da sequência processada pelo ProtBert.\n",
    "\n",
    "    Args:\n",
    "      individuo: lista de aminoácidos\n",
    "    \"\"\"    \n",
    "    \n",
    "    # Substitui aminoácidos não padronizados\n",
    "    seq = re.sub(r\"[UZOB]\", \"X\", individuo)\n",
    "    # Realiza tokenização\n",
    "    encoded = tokenizer(seq, return_tensors=\"pt\")\n",
    "    with torch.no_grad():\n",
    "        output = model(**encoded)\n",
    "    # Obtém os embeddings da última camada fazendo a média dos tokens válidos\n",
    "    emb = output.last_hidden_state.squeeze(0)[1:-1]\n",
    "    avg_emb = emb.mean(dim=0).numpy()\n",
    "    \n",
    "    return avg_emb"
   ]
  },
  {
   "cell_type": "markdown",
   "id": "8efd9d4e-5628-414a-bf51-25ea512cf90e",
   "metadata": {},
   "source": [
    "De acordo com a descrição de normalização no paper de fonte do *dataset* [[3]](https://www.nature.com/articles/s41598-025-98667-9) e com o intervalo observado abaixo para as temperaturas de *melting*, é possível concluir que as mesmas estão normalizadas por uma normalização de mínimo e máximo que mantém os dados no intervalo [0, 1]. Tendo isso em vista, não nos preocuparemos com a unidade do *target* aqui, fazendo uma nova normalização dependente dos dados de treino que vamos adotar."
   ]
  },
  {
   "cell_type": "code",
   "execution_count": 5,
   "id": "1b2ec42e-315a-4f33-ac07-1e83acc5b75e",
   "metadata": {},
   "outputs": [
    {
     "name": "stdout",
     "output_type": "stream",
     "text": [
      "0.0 1.0\n"
     ]
    }
   ],
   "source": [
    "df_completo = pd.read_csv('training_dataset.csv').dropna()\n",
    "print(min(df_completo[TARGET]), max(df_completo[TARGET]))"
   ]
  },
  {
   "cell_type": "markdown",
   "id": "f336bcbf-8569-464f-ba08-0111776c9c7c",
   "metadata": {},
   "source": [
    "Abaixo, definimos o *dataframe* com que trabalharemos."
   ]
  },
  {
   "cell_type": "code",
   "execution_count": 6,
   "id": "8ba96a60-c2b8-472f-a7c8-d20c54675399",
   "metadata": {},
   "outputs": [],
   "source": [
    "df = pd.read_csv('training_dataset.csv').dropna().head(1000)\n",
    "\n",
    "df[GENES_GA] = df[GENES_GA].str.replace(r\"(.)\", r\"\\1 \", regex=True).str.strip()\n",
    "embeddings = []\n",
    "for i in df[GENES_GA]:\n",
    "    embeddings.append(representacao_protbert(i))\n",
    "\n",
    "df_emb = pd.DataFrame(embeddings, columns=ATRIBUTOS, index=df.index)\n",
    "df = pd.concat([df, df_emb], axis=1)  \n",
    "df = df.copy()  # defragmenta a memória (garante que as colunas estejam compactas em um bloco)\n",
    "\n",
    "df = df.reindex([GENES_GA, *ATRIBUTOS, TARGET], axis=1)"
   ]
  },
  {
   "cell_type": "markdown",
   "id": "c413ca39",
   "metadata": {},
   "source": [
    "### Dados de treino, teste e validação para a MLP\n",
    "Começamos definindo as constantes para separação de dados de treino, teste e validação para a RN."
   ]
  },
  {
   "cell_type": "code",
   "execution_count": 7,
   "id": "0c5365e6",
   "metadata": {},
   "outputs": [],
   "source": [
    "TAMANHO_TESTE = 0.1\n",
    "TAMANHO_VALIDACAO = 0.1\n",
    "\n",
    "SEMENTE_ALEATORIA = 61455"
   ]
  },
  {
   "cell_type": "markdown",
   "id": "fefbd5f5",
   "metadata": {},
   "source": [
    "Agora, obtemos os x (atributos) e y (*targets*) de treino, teste e validação. Os targets serão normalizados por normalização de máximo absoluto ajustada aos dados de treino antes de alimentarem a RN."
   ]
  },
  {
   "cell_type": "code",
   "execution_count": 8,
   "id": "1a656b44",
   "metadata": {},
   "outputs": [],
   "source": [
    "indices = df.index\n",
    "indices_treino_val, indices_teste = train_test_split(\n",
    "    indices, test_size=TAMANHO_TESTE, random_state=SEMENTE_ALEATORIA\n",
    ")\n",
    "\n",
    "df_treino_val = df.loc[indices_treino_val]\n",
    "df_teste = df.loc[indices_teste]\n",
    "\n",
    "X_teste = df_teste.reindex([*ATRIBUTOS], axis=1).values \n",
    "y_teste = df_teste.reindex([TARGET], axis=1).values "
   ]
  },
  {
   "cell_type": "code",
   "execution_count": 9,
   "id": "e0f65a1c",
   "metadata": {},
   "outputs": [],
   "source": [
    "indices = df_treino_val.index\n",
    "indices_treino, indices_val = train_test_split(\n",
    "    indices, test_size=TAMANHO_TESTE, random_state=SEMENTE_ALEATORIA\n",
    ")\n",
    "\n",
    "df_treino = df.loc[indices_treino]\n",
    "df_val = df.loc[indices_val]\n",
    "\n",
    "X_treino = df_treino.reindex([*ATRIBUTOS], axis=1).values\n",
    "y_treino = df_treino.reindex([TARGET], axis=1).values\n",
    "\n",
    "X_val = df_val.reindex([*ATRIBUTOS], axis=1).values \n",
    "y_val = df_val.reindex([TARGET], axis=1).values"
   ]
  },
  {
   "cell_type": "code",
   "execution_count": 10,
   "id": "91da5211",
   "metadata": {},
   "outputs": [],
   "source": [
    "x_scaler = MaxAbsScaler()\n",
    "x_scaler.fit(X_treino)\n",
    "\n",
    "y_scaler = MaxAbsScaler()\n",
    "y_scaler.fit(y_treino)\n",
    "\n",
    "X_treino = x_scaler.transform(X_treino)\n",
    "y_treino = y_scaler.transform(y_treino)\n",
    "\n",
    "X_val = x_scaler.transform(X_val)\n",
    "y_val = y_scaler.transform(y_val)\n",
    "\n",
    "X_teste = x_scaler.transform(X_teste)\n",
    "y_teste = y_scaler.transform(y_teste)"
   ]
  },
  {
   "cell_type": "markdown",
   "id": "246b6371",
   "metadata": {},
   "source": [
    "Os dados de treino, validação e teste serão convertidos para tensores em formato aceito pelo pytorch."
   ]
  },
  {
   "cell_type": "code",
   "execution_count": 11,
   "id": "cdc13ecc",
   "metadata": {},
   "outputs": [],
   "source": [
    "X_treino = np.array(X_treino.tolist(), dtype=np.float32)\n",
    "X_treino = torch.tensor(X_treino, dtype=torch.float32)\n",
    "y_treino = torch.tensor(y_treino, dtype=torch.float32).view(-1, 1)"
   ]
  },
  {
   "cell_type": "code",
   "execution_count": 12,
   "id": "8c0405a3-1c55-4d17-ac22-aa950e538a30",
   "metadata": {},
   "outputs": [],
   "source": [
    "X_val = np.array(X_val.tolist(), dtype=np.float32)\n",
    "X_val = torch.tensor(X_val, dtype=torch.float32)\n",
    "y_val = torch.tensor(y_val, dtype=torch.float32).view(-1, 1)"
   ]
  },
  {
   "cell_type": "code",
   "execution_count": 13,
   "id": "c5da886c",
   "metadata": {},
   "outputs": [],
   "source": [
    "X_teste = np.array(X_teste.tolist(), dtype=np.float32)\n",
    "X_teste = torch.tensor(X_teste, dtype=torch.float32)\n",
    "y_teste = torch.tensor(y_teste, dtype=torch.float32).view(-1,1)"
   ]
  },
  {
   "cell_type": "markdown",
   "id": "0e3d225a-b86e-46c9-844b-458ba46f8704",
   "metadata": {},
   "source": [
    "### Rede neural MLP\n",
    "#### Constantes"
   ]
  },
  {
   "cell_type": "code",
   "execution_count": 14,
   "id": "ab63566f-df62-4e03-89ba-8ddd1bd05934",
   "metadata": {},
   "outputs": [],
   "source": [
    "NUM_DADOS_DE_ENTRADA = 1024  \n",
    "NUM_DADOS_DE_SAIDA = 1  "
   ]
  },
  {
   "cell_type": "markdown",
   "id": "3c3ba186-8c2c-4886-b348-f8761b0aa2aa",
   "metadata": {},
   "source": [
    "#### Otimização de hiperparâmetros com Optuna\n",
    "Primeiramente, criamos a função que cria a instância de modelo a partir do `trial` do Optuna."
   ]
  },
  {
   "cell_type": "code",
   "execution_count": 15,
   "id": "02d5dfa2-708f-4ef8-9770-129a21abcfe8",
   "metadata": {},
   "outputs": [],
   "source": [
    "def cria_instancia_modelo(trial):\n",
    "    # sugere hiperparametros\n",
    "    n_camadas = trial.suggest_int(\"n_camadas\", 1, 3)\n",
    "    taxa_aprendizado = trial.suggest_float(\"learning_rate\", 1e-4, 1e-1, log = True)\n",
    "    n_epocas = trial.suggest_int(\"n_epocas\", 50, 100)\n",
    "    otimizador_nome = trial.suggest_categorical(\"otimizador\", [\"Adam\", \"SGD\", \"RMSprop\"])\n",
    "    \n",
    "    # arquitetura da rede\n",
    "    camadas = []\n",
    "    neuronios_entrada = NUM_DADOS_DE_ENTRADA\n",
    "    \n",
    "    for i in range(n_camadas):\n",
    "        neuronios_camada = trial.suggest_int(f\"n_neuronios{i}\", 8, 64)\n",
    "        ativacao = trial.suggest_categorical(f\"ativacao{i}\", ['ReLU', 'Sigmoid', 'Tanh'])\n",
    "        \n",
    "        camadas.append(nn.Linear(neuronios_entrada, neuronios_camada))\n",
    "    \n",
    "        # aplicado a função de ativação\n",
    "        if ativacao == \"ReLU\":\n",
    "            camadas.append(nn.ReLU())\n",
    "        elif ativacao == \"Sigmoid\":\n",
    "            camadas.append(nn.Sigmoid())\n",
    "        else:\n",
    "            camadas.append(nn.Tanh())\n",
    "            \n",
    "        neuronios_entrada = neuronios_camada\n",
    "        \n",
    "    # camada de saída\n",
    "    camadas.append(nn.Linear(neuronios_entrada, NUM_DADOS_DE_SAIDA))\n",
    "        \n",
    "    # definindo o modelo\n",
    "    model = nn.Sequential(*camadas)\n",
    "    \n",
    "    # aplicando otimizador\n",
    "    if otimizador_nome == \"Adam\":\n",
    "        otimizador = torch.optim.Adam(model.parameters(), lr = taxa_aprendizado)\n",
    "    elif otimizador_nome == \"SGD\":\n",
    "        otimizador = torch.optim.SGD(model.parameters(), lr = taxa_aprendizado)\n",
    "    else:\n",
    "        otimizador = torch.optim.RMSprop(model.parameters(), lr = taxa_aprendizado)\n",
    "        \n",
    "    funcao_perda = nn.MSELoss()\n",
    "    \n",
    "    #treinando o modelo\n",
    "    for epoca in range(n_epocas):\n",
    "        model.train()\n",
    "        \n",
    "        # zero grad\n",
    "        otimizador.zero_grad()\n",
    "        \n",
    "        # forward pass\n",
    "        y_pred = model(X_treino)\n",
    "        \n",
    "        # loss\n",
    "        loss = funcao_perda(y_pred, y_treino)\n",
    "        \n",
    "        # backpropagation\n",
    "        loss.backward()\n",
    "        \n",
    "        # atualiza parametros\n",
    "        otimizador.step()\n",
    "        \n",
    "        trial.report(loss.item(), epoca)\n",
    "        if trial.should_prune():\n",
    "            raise optuna.exceptions.TrialPruned()\n",
    "            \n",
    "    # testando\n",
    "    model.eval()\n",
    "    \n",
    "    with torch.no_grad():\n",
    "        pred = model(X_val)\n",
    "        val_loss = funcao_perda(pred, y_val).item()\n",
    "        rmse = np.sqrt(val_loss)\n",
    "           \n",
    "    return rmse"
   ]
  },
  {
   "cell_type": "markdown",
   "id": "03087468-8c93-4f28-b3bf-4332a09a3e3e",
   "metadata": {},
   "source": [
    "Criamos o objeto de estudo e realizamos a otimização de hiperparâmetros com o Optuna, salvando como variável os melhores parâmetros para criar a MLP final."
   ]
  },
  {
   "cell_type": "code",
   "execution_count": 16,
   "id": "8e9cc4e9-c20b-4c22-9504-741cc5a87daf",
   "metadata": {},
   "outputs": [
    {
     "name": "stderr",
     "output_type": "stream",
     "text": [
      "[I 2025-06-12 19:14:50,170] A new study created in memory with name: no-name-08018a17-5045-43b9-9a60-660ec08d37ec\n",
      "[I 2025-06-12 19:14:50,235] Trial 0 finished with value: 0.1422696827137516 and parameters: {'n_camadas': 2, 'learning_rate': 0.025248392177399874, 'n_epocas': 63, 'otimizador': 'SGD', 'n_neuronios0': 44, 'ativacao0': 'Tanh', 'n_neuronios1': 32, 'ativacao1': 'ReLU'}. Best is trial 0 with value: 0.1422696827137516.\n",
      "[I 2025-06-12 19:14:50,305] Trial 1 finished with value: 1.34834422366849 and parameters: {'n_camadas': 1, 'learning_rate': 0.05454224228477528, 'n_epocas': 84, 'otimizador': 'RMSprop', 'n_neuronios0': 36, 'ativacao0': 'ReLU'}. Best is trial 0 with value: 0.1422696827137516.\n",
      "[I 2025-06-12 19:14:50,390] Trial 2 finished with value: 0.10887238275555235 and parameters: {'n_camadas': 1, 'learning_rate': 0.012868521736765979, 'n_epocas': 94, 'otimizador': 'RMSprop', 'n_neuronios0': 44, 'ativacao0': 'Tanh'}. Best is trial 2 with value: 0.10887238275555235.\n",
      "[I 2025-06-12 19:14:50,463] Trial 3 finished with value: 0.21265331655885342 and parameters: {'n_camadas': 2, 'learning_rate': 0.030969299395190115, 'n_epocas': 89, 'otimizador': 'SGD', 'n_neuronios0': 35, 'ativacao0': 'ReLU', 'n_neuronios1': 13, 'ativacao1': 'Sigmoid'}. Best is trial 2 with value: 0.10887238275555235.\n",
      "[I 2025-06-12 19:14:50,519] Trial 4 finished with value: 0.15354885392036144 and parameters: {'n_camadas': 1, 'learning_rate': 0.01170123304908468, 'n_epocas': 57, 'otimizador': 'SGD', 'n_neuronios0': 43, 'ativacao0': 'ReLU'}. Best is trial 2 with value: 0.10887238275555235.\n",
      "[I 2025-06-12 19:14:50,522] Trial 5 pruned. \n",
      "[I 2025-06-12 19:14:50,524] Trial 6 pruned. \n",
      "[I 2025-06-12 19:14:50,644] Trial 7 finished with value: 0.09979698334313696 and parameters: {'n_camadas': 2, 'learning_rate': 0.0005114301328718613, 'n_epocas': 100, 'otimizador': 'RMSprop', 'n_neuronios0': 40, 'ativacao0': 'Tanh', 'n_neuronios1': 48, 'ativacao1': 'Sigmoid'}. Best is trial 7 with value: 0.09979698334313696.\n",
      "[I 2025-06-12 19:14:50,653] Trial 8 pruned. \n",
      "[I 2025-06-12 19:14:50,655] Trial 9 pruned. \n",
      "[I 2025-06-12 19:14:50,689] Trial 10 pruned. \n",
      "[I 2025-06-12 19:14:50,700] Trial 11 pruned. \n",
      "[I 2025-06-12 19:14:50,710] Trial 12 pruned. \n",
      "[I 2025-06-12 19:14:50,825] Trial 13 finished with value: 0.10989945557878583 and parameters: {'n_camadas': 3, 'learning_rate': 0.00011545837804717172, 'n_epocas': 78, 'otimizador': 'RMSprop', 'n_neuronios0': 24, 'ativacao0': 'Tanh', 'n_neuronios1': 49, 'ativacao1': 'Sigmoid', 'n_neuronios2': 62, 'ativacao2': 'Tanh'}. Best is trial 7 with value: 0.09979698334313696.\n",
      "[I 2025-06-12 19:14:50,908] Trial 14 finished with value: 0.10446206665855269 and parameters: {'n_camadas': 1, 'learning_rate': 0.003797382237879604, 'n_epocas': 99, 'otimizador': 'RMSprop', 'n_neuronios0': 8, 'ativacao0': 'Tanh'}. Best is trial 7 with value: 0.09979698334313696.\n",
      "[I 2025-06-12 19:14:50,987] Trial 15 pruned. \n",
      "[I 2025-06-12 19:14:51,000] Trial 16 pruned. \n",
      "[I 2025-06-12 19:14:51,015] Trial 17 pruned. \n",
      "[I 2025-06-12 19:14:51,025] Trial 18 pruned. \n",
      "[I 2025-06-12 19:14:51,038] Trial 19 pruned. \n",
      "[I 2025-06-12 19:14:51,154] Trial 20 pruned. \n",
      "[I 2025-06-12 19:14:51,176] Trial 21 pruned. \n",
      "[I 2025-06-12 19:14:51,191] Trial 22 pruned. \n",
      "[I 2025-06-12 19:14:51,207] Trial 23 pruned. \n",
      "[I 2025-06-12 19:14:51,218] Trial 24 pruned. \n",
      "[I 2025-06-12 19:14:51,229] Trial 25 pruned. \n",
      "[I 2025-06-12 19:14:51,268] Trial 26 pruned. \n",
      "[I 2025-06-12 19:14:51,282] Trial 27 pruned. \n",
      "[I 2025-06-12 19:14:51,303] Trial 28 pruned. \n",
      "[I 2025-06-12 19:14:51,319] Trial 29 pruned. \n",
      "[I 2025-06-12 19:14:51,337] Trial 30 pruned. \n",
      "[I 2025-06-12 19:14:51,353] Trial 31 pruned. \n",
      "[I 2025-06-12 19:14:51,370] Trial 32 pruned. \n",
      "[I 2025-06-12 19:14:51,410] Trial 33 pruned. \n",
      "[I 2025-06-12 19:14:51,421] Trial 34 pruned. \n",
      "[I 2025-06-12 19:14:51,436] Trial 35 pruned. \n",
      "[I 2025-06-12 19:14:51,453] Trial 36 pruned. \n",
      "[I 2025-06-12 19:14:51,468] Trial 37 pruned. \n",
      "[I 2025-06-12 19:14:51,485] Trial 38 pruned. \n",
      "[I 2025-06-12 19:14:51,501] Trial 39 pruned. \n",
      "[I 2025-06-12 19:14:51,515] Trial 40 pruned. \n",
      "[I 2025-06-12 19:14:51,530] Trial 41 pruned. \n",
      "[I 2025-06-12 19:14:51,546] Trial 42 pruned. \n",
      "[I 2025-06-12 19:14:51,561] Trial 43 pruned. \n",
      "[I 2025-06-12 19:14:51,576] Trial 44 pruned. \n",
      "[I 2025-06-12 19:14:51,591] Trial 45 pruned. \n",
      "[I 2025-06-12 19:14:51,606] Trial 46 pruned. \n",
      "[I 2025-06-12 19:14:51,622] Trial 47 pruned. \n",
      "[I 2025-06-12 19:14:51,640] Trial 48 pruned. \n",
      "[I 2025-06-12 19:14:51,653] Trial 49 pruned. \n",
      "[I 2025-06-12 19:14:51,669] Trial 50 pruned. \n",
      "[I 2025-06-12 19:14:51,688] Trial 51 pruned. \n",
      "[I 2025-06-12 19:14:51,701] Trial 52 pruned. \n",
      "[I 2025-06-12 19:14:51,720] Trial 53 pruned. \n",
      "[I 2025-06-12 19:14:51,732] Trial 54 pruned. \n",
      "[I 2025-06-12 19:14:51,745] Trial 55 pruned. \n",
      "[I 2025-06-12 19:14:51,758] Trial 56 pruned. \n",
      "[I 2025-06-12 19:14:51,771] Trial 57 pruned. \n",
      "[I 2025-06-12 19:14:51,786] Trial 58 pruned. \n",
      "[I 2025-06-12 19:14:51,801] Trial 59 pruned. \n",
      "[I 2025-06-12 19:14:51,821] Trial 60 pruned. \n",
      "[I 2025-06-12 19:14:51,837] Trial 61 pruned. \n",
      "[I 2025-06-12 19:14:51,858] Trial 62 pruned. \n",
      "[I 2025-06-12 19:14:51,874] Trial 63 pruned. \n",
      "[I 2025-06-12 19:14:51,901] Trial 64 pruned. \n",
      "[I 2025-06-12 19:14:51,920] Trial 65 pruned. \n",
      "[I 2025-06-12 19:14:51,937] Trial 66 pruned. \n",
      "[I 2025-06-12 19:14:51,960] Trial 67 pruned. \n",
      "[I 2025-06-12 19:14:51,984] Trial 68 pruned. \n",
      "[I 2025-06-12 19:14:51,997] Trial 69 pruned. \n",
      "[I 2025-06-12 19:14:52,013] Trial 70 pruned. \n",
      "[I 2025-06-12 19:14:52,026] Trial 71 pruned. \n",
      "[I 2025-06-12 19:14:52,041] Trial 72 pruned. \n",
      "[I 2025-06-12 19:14:52,057] Trial 73 pruned. \n",
      "[I 2025-06-12 19:14:52,073] Trial 74 pruned. \n",
      "[I 2025-06-12 19:14:52,086] Trial 75 pruned. \n",
      "[I 2025-06-12 19:14:52,102] Trial 76 pruned. \n",
      "[I 2025-06-12 19:14:52,115] Trial 77 pruned. \n",
      "[I 2025-06-12 19:14:52,219] Trial 78 finished with value: 0.09833361313296506 and parameters: {'n_camadas': 2, 'learning_rate': 0.00042294195625656615, 'n_epocas': 88, 'otimizador': 'RMSprop', 'n_neuronios0': 14, 'ativacao0': 'Tanh', 'n_neuronios1': 41, 'ativacao1': 'ReLU'}. Best is trial 78 with value: 0.09833361313296506.\n",
      "[I 2025-06-12 19:14:52,239] Trial 79 pruned. \n",
      "[I 2025-06-12 19:14:52,255] Trial 80 pruned. \n",
      "[I 2025-06-12 19:14:52,271] Trial 81 pruned. \n",
      "[I 2025-06-12 19:14:52,287] Trial 82 pruned. \n",
      "[I 2025-06-12 19:14:52,304] Trial 83 pruned. \n",
      "[I 2025-06-12 19:14:52,329] Trial 84 pruned. \n",
      "[I 2025-06-12 19:14:52,343] Trial 85 pruned. \n",
      "[I 2025-06-12 19:14:52,360] Trial 86 pruned. \n",
      "[I 2025-06-12 19:14:52,373] Trial 87 pruned. \n",
      "[I 2025-06-12 19:14:52,399] Trial 88 pruned. \n",
      "[I 2025-06-12 19:14:52,412] Trial 89 pruned. \n",
      "[I 2025-06-12 19:14:52,436] Trial 90 pruned. \n",
      "[I 2025-06-12 19:14:52,449] Trial 91 pruned. \n",
      "[I 2025-06-12 19:14:52,463] Trial 92 pruned. \n",
      "[I 2025-06-12 19:14:52,477] Trial 93 pruned. \n",
      "[I 2025-06-12 19:14:52,495] Trial 94 pruned. \n",
      "[I 2025-06-12 19:14:52,542] Trial 95 pruned. \n",
      "[I 2025-06-12 19:14:52,560] Trial 96 pruned. \n",
      "[I 2025-06-12 19:14:52,579] Trial 97 pruned. \n",
      "[I 2025-06-12 19:14:52,593] Trial 98 pruned. \n",
      "[I 2025-06-12 19:14:52,616] Trial 99 pruned. \n",
      "[I 2025-06-12 19:14:52,630] Trial 100 pruned. \n",
      "[I 2025-06-12 19:14:52,647] Trial 101 pruned. \n",
      "[I 2025-06-12 19:14:52,672] Trial 102 pruned. \n",
      "[I 2025-06-12 19:14:52,691] Trial 103 pruned. \n",
      "[I 2025-06-12 19:14:52,709] Trial 104 pruned. \n",
      "[I 2025-06-12 19:14:52,734] Trial 105 pruned. \n",
      "[I 2025-06-12 19:14:52,752] Trial 106 pruned. \n",
      "[I 2025-06-12 19:14:52,769] Trial 107 pruned. \n",
      "[I 2025-06-12 19:14:52,787] Trial 108 pruned. \n",
      "[I 2025-06-12 19:14:52,804] Trial 109 pruned. \n",
      "[I 2025-06-12 19:14:52,818] Trial 110 pruned. \n",
      "[I 2025-06-12 19:14:52,832] Trial 111 pruned. \n",
      "[I 2025-06-12 19:14:52,846] Trial 112 pruned. \n",
      "[I 2025-06-12 19:14:52,859] Trial 113 pruned. \n",
      "[I 2025-06-12 19:14:52,876] Trial 114 pruned. \n",
      "[I 2025-06-12 19:14:52,890] Trial 115 pruned. \n",
      "[I 2025-06-12 19:14:52,904] Trial 116 pruned. \n",
      "[I 2025-06-12 19:14:52,918] Trial 117 pruned. \n",
      "[I 2025-06-12 19:14:52,933] Trial 118 pruned. \n",
      "[I 2025-06-12 19:14:52,951] Trial 119 pruned. \n",
      "[I 2025-06-12 19:14:52,972] Trial 120 pruned. \n",
      "[I 2025-06-12 19:14:52,986] Trial 121 pruned. \n",
      "[I 2025-06-12 19:14:53,004] Trial 122 pruned. \n",
      "[I 2025-06-12 19:14:53,019] Trial 123 pruned. \n",
      "[I 2025-06-12 19:14:53,037] Trial 124 pruned. \n",
      "[I 2025-06-12 19:14:53,054] Trial 125 pruned. \n",
      "[I 2025-06-12 19:14:53,069] Trial 126 pruned. \n",
      "[I 2025-06-12 19:14:53,095] Trial 127 pruned. \n",
      "[I 2025-06-12 19:14:53,109] Trial 128 pruned. \n",
      "[I 2025-06-12 19:14:53,123] Trial 129 pruned. \n",
      "[I 2025-06-12 19:14:53,146] Trial 130 pruned. \n",
      "[I 2025-06-12 19:14:53,241] Trial 131 pruned. \n",
      "[I 2025-06-12 19:14:53,262] Trial 132 pruned. \n",
      "[I 2025-06-12 19:14:53,290] Trial 133 pruned. \n",
      "[I 2025-06-12 19:14:53,386] Trial 134 pruned. \n",
      "[I 2025-06-12 19:14:53,407] Trial 135 pruned. \n",
      "[I 2025-06-12 19:14:53,510] Trial 136 pruned. \n",
      "[I 2025-06-12 19:14:53,532] Trial 137 pruned. \n",
      "[I 2025-06-12 19:14:53,553] Trial 138 pruned. \n",
      "[I 2025-06-12 19:14:53,593] Trial 139 pruned. \n",
      "[I 2025-06-12 19:14:53,615] Trial 140 pruned. \n",
      "[I 2025-06-12 19:14:53,702] Trial 141 pruned. \n",
      "[I 2025-06-12 19:14:53,724] Trial 142 pruned. \n",
      "[I 2025-06-12 19:14:53,746] Trial 143 pruned. \n",
      "[I 2025-06-12 19:14:53,860] Trial 144 pruned. \n",
      "[I 2025-06-12 19:14:53,882] Trial 145 pruned. \n",
      "[I 2025-06-12 19:14:53,904] Trial 146 pruned. \n",
      "[I 2025-06-12 19:14:53,931] Trial 147 pruned. \n",
      "[I 2025-06-12 19:14:54,046] Trial 148 pruned. \n",
      "[I 2025-06-12 19:14:54,068] Trial 149 pruned. \n"
     ]
    },
    {
     "name": "stdout",
     "output_type": "stream",
     "text": [
      "Melhor trial:\n",
      "RMSE: 0.09833361313296506\n",
      "Parâmetros:\n",
      "n_camadas: 2\n",
      "learning_rate: 0.00042294195625656615\n",
      "n_epocas: 88\n",
      "otimizador: RMSprop\n",
      "n_neuronios0: 14\n",
      "ativacao0: Tanh\n",
      "n_neuronios1: 41\n",
      "ativacao1: ReLU\n"
     ]
    }
   ],
   "source": [
    "objeto_de_estudo = optuna.create_study(direction = \"minimize\") # queremos diminuir o RMSE\n",
    "objeto_de_estudo.optimize(cria_instancia_modelo, n_trials = 150, timeout = 600)\n",
    "\n",
    "print(\"Melhor trial:\")\n",
    "print(\"RMSE:\", objeto_de_estudo.best_trial.value)\n",
    "print(\"Parâmetros:\")\n",
    "\n",
    "# Armazenando e imprimindo os melhores parâmetros do estudo\n",
    "best_params = objeto_de_estudo.best_trial.params\n",
    "for key, value in best_params.items():\n",
    "    print(f\"{key}: {value}\")"
   ]
  },
  {
   "cell_type": "markdown",
   "id": "1c12b645-4805-4849-ba57-8e8f5b4683f7",
   "metadata": {},
   "source": [
    "#### Treinamento, validação e teste da MLP final"
   ]
  },
  {
   "cell_type": "markdown",
   "id": "0b89c7a1-b388-42ee-bb35-3bb59426341a",
   "metadata": {},
   "source": [
    "Definimos a função para criação da rede neural a partir da *trial* mais bem sucedida do Optuna dinamicamente."
   ]
  },
  {
   "cell_type": "code",
   "execution_count": 17,
   "id": "0b6d0828-62a3-48a2-86ba-a87e23ff4e08",
   "metadata": {},
   "outputs": [],
   "source": [
    "def cria_rede_final(params):\n",
    "    camadas = []\n",
    "    neuronios_entrada = NUM_DADOS_DE_ENTRADA\n",
    "\n",
    "    # camadas\n",
    "    for i in range(params[\"n_camadas\"]):\n",
    "        neuronios_camada = params[f\"n_neuronios{i}\"]\n",
    "        ativacao = params[f\"ativacao{i}\"]\n",
    "        \n",
    "        camadas.append(nn.Linear(neuronios_entrada, neuronios_camada))\n",
    "        \n",
    "        if params.get(\"use_batch_norm\", False):\n",
    "            camadas.append(nn.BatchNorm1d(neuronios_camada))\n",
    "\n",
    "        # função de ativação\n",
    "        if ativacao == \"ReLU\":\n",
    "            camadas.append(nn.ReLU())\n",
    "        elif ativacao == \"LeakyReLU\":\n",
    "            camadas.append(nn.LeakyReLU(0.2))\n",
    "        elif ativacao == \"Sigmoid\":\n",
    "            camadas.append(nn.Sigmoid())\n",
    "        else:\n",
    "            camadas.append(nn.Tanh())\n",
    "          \n",
    "        neuronios_entrada = neuronios_camada\n",
    "\n",
    "    camadas.append(nn.Linear(neuronios_entrada, NUM_DADOS_DE_SAIDA))\n",
    "        \n",
    "    return nn.Sequential(*camadas)"
   ]
  },
  {
   "cell_type": "markdown",
   "id": "f6f62c80-b5b1-4473-ab1a-a219b3658343",
   "metadata": {},
   "source": [
    "Definimos a função de treinamento do modelo a partir dos parâmetros e otimizador do melhor *trial* da otimização do Optuna."
   ]
  },
  {
   "cell_type": "code",
   "execution_count": 18,
   "id": "3f3dbfbc-c767-4ead-9da8-d4b0f98a087a",
   "metadata": {},
   "outputs": [],
   "source": [
    "def treina_modelo(params, X_treino, y_treino, X_teste, y_teste, X_val, y_val):\n",
    "    # cria modelo\n",
    "    modelo = cria_rede_final(params)\n",
    "\n",
    "    # otimizador\n",
    "    if params[\"otimizador\"] == \"Adam\":\n",
    "        otimizador = torch.optim.Adam(modelo.parameters(), lr = params[\"learning_rate\"])\n",
    "    elif params[\"otimizador\"] == \"SGD\":\n",
    "        otimizador = torch.optim.SGD(modelo.parameters(), lr = params[\"learning_rate\"])\n",
    "    else:\n",
    "        otimizador = torch.optim.RMSprop(modelo.parameters(), lr = params[\"learning_rate\"])\n",
    "    \n",
    "    funcao_perda = nn.MSELoss()\n",
    "    menor_loss = float(\"inf\")\n",
    "    max_erros = 20\n",
    "    sem_progresso = 0\n",
    "    pesos_melhor_rede = None\n",
    "    melhor_epoca = 0\n",
    "    \n",
    "    historico_treino = []\n",
    "    historico_val = []\n",
    "    \n",
    "    # treino\n",
    "    for epoca in range(params[\"n_epocas\"]):\n",
    "        modelo.train()\n",
    "        loss_treino = 0\n",
    "        \n",
    "        for X, y in zip(X_treino, y_treino):\n",
    "            # zero grad\n",
    "            otimizador.zero_grad()\n",
    "\n",
    "            # forward pass\n",
    "            saida = modelo(X)\n",
    "\n",
    "            # loss\n",
    "            loss = funcao_perda(saida, y)\n",
    "\n",
    "            # backpropagation\n",
    "            loss.backward()\n",
    "\n",
    "            # atualiza parametros\n",
    "            otimizador.step()\n",
    "            \n",
    "            loss_treino += loss.item()\n",
    "            \n",
    "        loss_treino_medio = loss_treino / len(X_treino)\n",
    "        historico_treino.append(loss_treino_medio)\n",
    "        \n",
    "        # validação\n",
    "        modelo.eval()\n",
    "        loss_val = 0\n",
    "        with torch.no_grad():\n",
    "            for X_v, y_v in zip(X_val, y_val):\n",
    "                preds = modelo(X_v)\n",
    "                loss_val += funcao_perda(preds, y_v).item()\n",
    "\n",
    "        loss_val /= len(X_val)\n",
    "        historico_val.append(loss_val)\n",
    "\n",
    "        # parada forçada \n",
    "        if loss_val < menor_loss:\n",
    "            menor_loss = loss_val\n",
    "            melhor_epoca = epoca \n",
    "            pesos_melhor_rede = modelo.state_dict().copy()\n",
    "        else:\n",
    "            sem_progresso += 1\n",
    "            if sem_progresso >= max_erros:\n",
    "                print(f\"Parada forçada na época {epoca}\")\n",
    "                print(f\"Os pesos salvos são da {melhor_epoca}, que obteve menor perda da validação\") \n",
    "                break\n",
    "                \n",
    "    # carrega os melhores pesos\n",
    "    modelo.load_state_dict(pesos_melhor_rede)\n",
    "    \n",
    "    # calcula RMSE final com os dados de teste\n",
    "    modelo.eval()\n",
    "    with torch.no_grad():\n",
    "        preds_teste = modelo(X_teste)\n",
    "        rmse_final = np.sqrt(funcao_perda(preds_teste, y_teste).item())\n",
    "\n",
    "    print(f\"RMSE de teste: {rmse_final:.4f}\")\n",
    "    return modelo, rmse_final, historico_treino, historico_val, melhor_epoca "
   ]
  },
  {
   "cell_type": "markdown",
   "id": "2f65ac4c-2311-42f6-82ba-7a42650b075c",
   "metadata": {},
   "source": [
    "Treinamos a MLP final que servirá de função objetivo da evolução dirigida."
   ]
  },
  {
   "cell_type": "code",
   "execution_count": 19,
   "id": "15e93320-9354-487e-9c04-254d70f83410",
   "metadata": {},
   "outputs": [
    {
     "name": "stdout",
     "output_type": "stream",
     "text": [
      "Parada forçada na época 23\n",
      "Os pesos salvos são da 5, que obteve menor perda da validação\n",
      "RMSE de teste: 0.1018\n"
     ]
    }
   ],
   "source": [
    "rede_final, RMSE, hist_treino, hist_validacao, melhor_epoca = treina_modelo(best_params, X_treino, y_treino, X_teste, y_teste, X_val, y_val)"
   ]
  },
  {
   "cell_type": "markdown",
   "id": "b872c2db-2391-47ab-8d21-d2497bfaf68f",
   "metadata": {},
   "source": [
    "Considerando valores que variam entre 0 e 1 (temperatura de *melting* normalizada) e a exposição a poucos dados, o RMSE apresenta um erro moderado, de cerca de um décimo do intervalo de treino. A parada, no entanto, ocorreu no início do treinamento, provavelmente porque os dados de treino e validação são muito distantes entre si, o que faz sentido dado o largo espaço de busca de sequências de aminoácidos a baixa amostragem. Além disso, a alta dimensionalidade do problema, que apresenta 1024 atributos, aumenta muito sua complexidade para resolução."
   ]
  },
  {
   "cell_type": "code",
   "execution_count": 21,
   "id": "9708f03c-c635-4111-a8d4-a28c13745131",
   "metadata": {},
   "outputs": [
    {
     "name": "stderr",
     "output_type": "stream",
     "text": [
      "/home/rafaela24021/anaconda3/lib/python3.11/site-packages/seaborn/_oldcore.py:1119: FutureWarning: use_inf_as_na option is deprecated and will be removed in a future version. Convert inf values to NaN before operating instead.\n",
      "  with pd.option_context('mode.use_inf_as_na', True):\n",
      "/home/rafaela24021/anaconda3/lib/python3.11/site-packages/seaborn/_oldcore.py:1119: FutureWarning: use_inf_as_na option is deprecated and will be removed in a future version. Convert inf values to NaN before operating instead.\n",
      "  with pd.option_context('mode.use_inf_as_na', True):\n",
      "/home/rafaela24021/anaconda3/lib/python3.11/site-packages/seaborn/_oldcore.py:1119: FutureWarning: use_inf_as_na option is deprecated and will be removed in a future version. Convert inf values to NaN before operating instead.\n",
      "  with pd.option_context('mode.use_inf_as_na', True):\n",
      "/home/rafaela24021/anaconda3/lib/python3.11/site-packages/seaborn/_oldcore.py:1119: FutureWarning: use_inf_as_na option is deprecated and will be removed in a future version. Convert inf values to NaN before operating instead.\n",
      "  with pd.option_context('mode.use_inf_as_na', True):\n"
     ]
    },
    {
     "data": {
      "image/png": "[encoded data removed]",
      "text/plain": [
       "<Figure size 640x480 with 1 Axes>"
      ]
     },
     "metadata": {},
     "output_type": "display_data"
    }
   ],
   "source": [
    "sns.lineplot(hist_treino, label=\"Treino\")\n",
    "eixo = sns.lineplot(hist_validacao, label=\"Validação\")\n",
    "\n",
    "eixo.set_xlim(left=0)\n",
    "\n",
    "eixo.axvline(x=melhor_epoca, color='red', linestyle='--', label=f\"Melhor época ({melhor_epoca})\") \n",
    "\n",
    "eixo.set_title(\"Curva de aprendizado\")\n",
    "eixo.set_xlabel(\"Época\")\n",
    "eixo.set_ylabel(\"Loss\");"
   ]
  },
  {
   "cell_type": "markdown",
   "id": "5d42df00-bd91-4b7c-87b2-d3a82fb7f5cb",
   "metadata": {},
   "source": [
    "Observa-se que, após a época cujos pesos foram salvos, não houve época com melhor (menor) perda da validação, o que justifica o *early stopping* usado. Provavelmente, a parada antecipada ocorreu após poucas épocas devido à baixa amostragem dos dados, que impossibilitou uma predição mais generalista seguindo os dados de treino."
   ]
  },
  {
   "cell_type": "markdown",
   "id": "546d648d",
   "metadata": {},
   "source": [
    "### Evolução Digirida (AG)\n",
    "\n",
    "#### Constantes\n",
    "Algumas das constantes foram definidas com base no considerado em [[4]](https://doi.org/10.1016/j.jtbi.2008.11.005): raramente as evoluções direcionadas *in silico* são conduzidas por mais de 10 gerações, mas isso pode estar associado ao alto custo computacional em abordagens mais complicadas que envolvam predição da estrutura da proteína, o que não vem ao caso aqui; a chance de cruzamento usada foi de 0.6; como aqui será adotada uma estratégia diferente de mutação, consideramos uma chance de mutação arbitrária não usada no artigo."
   ]
  },
  {
   "cell_type": "code",
   "execution_count": 30,
   "id": "40052425-3930-4c53-8d2f-11f224b63975",
   "metadata": {},
   "outputs": [],
   "source": [
    "NUM_MIN_AMINOACIDOS = 100\n",
    "NUM_MAX_AMINOACIDOS = 500 \n",
    "\n",
    "TAMANHO_POPULACAO = 200\n",
    "NUM_GERACOES = 100\n",
    "CHANCE_DE_CRUZAMENTO = 0.6\n",
    "CHANCE_DE_MUTACAO = 0.1 \n",
    "TAMANHO_TORNEIO = 4\n",
    "TAMANHO_HALL_DA_FAMA = 3\n",
    "TAMANHO_MAXIMO_INDEL = 15"
   ]
  },
  {
   "cell_type": "markdown",
   "id": "6ce4754e-d62d-4635-b311-5f0e1754cd32",
   "metadata": {},
   "source": [
    "Define-se também a lista dos aminoácidos canônicos representados pelas strings de seus símbolos de uma letra. Não usaremos aminoácidos raros, uma vez que são raros e sua representação no Protbert é subvalorizada, pois ele converte todos aminoácidos raros para uma representação única antes de obter a representação em vetor."
   ]
  },
  {
   "cell_type": "code",
   "execution_count": 23,
   "id": "fb6f90e8-79cd-45ba-a237-b0ea7c8f2201",
   "metadata": {},
   "outputs": [],
   "source": [
    "aminoacidos = ['A','R','N','D','C','E','Q','G','H','I','L','K','M','F','P','S','T','W','Y','V']"
   ]
  },
  {
   "cell_type": "markdown",
   "id": "115baef7-eb3c-4bf2-9213-f5f9ddab4267",
   "metadata": {},
   "source": [
    "Este problema se assemelha ao problema das caixas não binárias e, por isso, nos basearemos nos materiais de aula do professor Daniel Cassar [5] sobre aplicação do módulo DEAP [[6]](https://doi.org/10.1016/j.jtbi.2008.11.005) a esse problema, fazendo as adaptações necessárias no código do professor para resolver nosso caso.\n",
    "\n",
    "Primeiro, definimos uma função para criar genes como códigos de uma letra de aminoácidos."
   ]
  },
  {
   "cell_type": "code",
   "execution_count": 24,
   "id": "3d543651",
   "metadata": {},
   "outputs": [],
   "source": [
    "def gene_cnb_aminoacidos(valores_possiveis):\n",
    "    \"\"\"Sorteia um valor para uma caixa no problema das caixas não-binárias de sequência de aminoácidos\n",
    "\n",
    "    Args:\n",
    "      valores_possiveis: lista de strings dos símbolos de uma letra dos aminoácidos aceitos.\n",
    "    \"\"\"\n",
    "    gene = rd.choice(valores_possiveis)\n",
    "    return gene"
   ]
  },
  {
   "cell_type": "markdown",
   "id": "50048eb7-98cd-46b9-bc84-011cfc7d7aa4",
   "metadata": {},
   "source": [
    "Depois, definimos uma função que gera indivíduos de tamanho variável a partir da função de geração de genes a ser colocada na caixa de ferramentas do DEAP. Isto é feito porque o initRepeat do DEAP exige um tamanho fixo para o indivíduo e, como queremos possibilitar a utilização de sequências de tamanhos distintos como indivíduos, a criação de uma função própria de criação de indivíduos é uma adaptação possível. O [ChatGPT](https://chatgpt.com/share/68482e07-85f0-8005-b1e7-0282e00ce71e) foi usado como fonte da base desse código."
   ]
  },
  {
   "cell_type": "code",
   "execution_count": 25,
   "id": "38098d73-7507-4332-acc0-f515ae49bf8a",
   "metadata": {},
   "outputs": [],
   "source": [
    "def cria_individuo_tamanho_variavel(min_genes, max_genes):\n",
    "    \"\"\"Cria um indivíduo de tamanho aleatório em um intervalo a partir da função cria_gene da toolbox do DEAP.\n",
    "\n",
    "    Args:\n",
    "      min_genes: inteiro que representa o número mínimo de genes.\n",
    "      max_genes: inteiro que representa o número máximo de genes.\n",
    "    \"\"\"\n",
    "    tamanho = rd.randint(NUM_MIN_AMINOACIDOS, NUM_MAX_AMINOACIDOS)\n",
    "    return creator.Individuo([toolbox.cria_gene() for _ in range(tamanho)])"
   ]
  },
  {
   "cell_type": "markdown",
   "id": "775af095-0e72-4d98-ad8f-98e78f798dd8",
   "metadata": {},
   "source": [
    "Coloca-se a função objetivo do problema definida no material de aula."
   ]
  },
  {
   "cell_type": "code",
   "execution_count": 26,
   "id": "c8238522-0b5f-4d16-9a9a-9f322e9908db",
   "metadata": {},
   "outputs": [],
   "source": [
    "def funcao_objetivo(individuo):\n",
    "    \"\"\"Computa a função objetivo de MLP para previsão de temperatura\n",
    "    de melting a partir da representação da sequência de aminoácidos \n",
    "    do Protbert no problema das caixas não-binárias de aminoácidos.\n",
    "\n",
    "    Args:\n",
    "      individuo: lista contendo os genes (aminoácidos) das caixas não-binárias\n",
    "    \"\"\"\n",
    "    seq = \" \".join(individuo)\n",
    "    vetor_individuo = representacao_protbert(seq)\n",
    "    vetor_individuo = torch.tensor(vetor_individuo, dtype=torch.float32).unsqueeze(0)\n",
    "    rede_final.eval()\n",
    "    with torch.no_grad():\n",
    "        tm_predita = rede_final(vetor_individuo)\n",
    "    tm_predita = tm_predita.numpy() \n",
    "    return (tm_predita, )"
   ]
  },
  {
   "cell_type": "markdown",
   "id": "7806c23c-9505-4d81-a4ec-904342c57794",
   "metadata": {},
   "source": [
    "Coloca-se a função de mutação de inserção e deleção que servirá ao problema de mutação dos símbolos dos aminoácidos e não está disponível no DEAP. Limitaremos um tamanho mínimo para a deleção na sequência para não ficarmos com sequências muito pequenas."
   ]
  },
  {
   "cell_type": "code",
   "execution_count": 27,
   "id": "683b8ba3-36e6-4994-9673-e940144d7995",
   "metadata": {},
   "outputs": [],
   "source": [
    "def mutacao_indel(individuo, max_indel_size, aminoacidos_permitidos = aminoacidos, min_genes = 100):\n",
    "    max_deletavel = len(individuo) - min_genes\n",
    "\n",
    "    if rd.random() < 0.5 and max_deletavel > 0:  #deleção\n",
    "        tamanho = rd.randint(1, min(max_indel_size, max_deletavel))  \n",
    "        posicao = rd.randint(0, len(individuo) - tamanho)\n",
    "        del individuo[posicao:posicao + tamanho]\n",
    "\n",
    "    else: # inserção\n",
    "        tamanho = rd.randint(1, max_indel_size)\n",
    "        posicao = rd.randint(0, len(individuo))\n",
    "        individuo[posicao:posicao] = [rd.choice(aminoacidos_permitidos) for i in range(tamanho)]\n",
    "        \n",
    "    return (individuo, )"
   ]
  },
  {
   "cell_type": "markdown",
   "id": "c58a3d09-4d71-44d5-bb37-81667d7ba9fe",
   "metadata": {},
   "source": [
    "Criamos o algoritmo genético com DEAP e aplicamos as funções acima, além de um cruzamento de ponto duplo e da seleção por torneio com funções próprias do DEAP."
   ]
  },
  {
   "cell_type": "code",
   "execution_count": 31,
   "id": "b563d3dc-1911-434e-ad35-e9ae9836e727",
   "metadata": {},
   "outputs": [
    {
     "name": "stderr",
     "output_type": "stream",
     "text": [
      "/home/rafaela24021/anaconda3/lib/python3.11/site-packages/deap/creator.py:185: RuntimeWarning: A class named 'FitnessMax' has already been created and it will be overwritten. Consider deleting previous creation of that class or rename it.\n",
      "  warnings.warn(\"A class named '{0}' has already been created and it \"\n",
      "/home/rafaela24021/anaconda3/lib/python3.11/site-packages/deap/creator.py:185: RuntimeWarning: A class named 'Individuo' has already been created and it will be overwritten. Consider deleting previous creation of that class or rename it.\n",
      "  warnings.warn(\"A class named '{0}' has already been created and it \"\n"
     ]
    },
    {
     "name": "stdout",
     "output_type": "stream",
     "text": [
      "gen\tnevals\tmédia              \tdesv. padrão       \tmin                \tmax               \n",
      "0  \t200   \t0.20596717298030853\t0.01689174771308899\t0.16639256477355957\t0.2615948021411896\n",
      "1  \t133   \t0.22461868822574615\t0.016636095941066742\t0.1875404268503189 \t0.28030869364738464\n",
      "2  \t113   \t0.23868697881698608\t0.01485798042267561 \t0.19827422499656677\t0.28440505266189575\n",
      "3  \t131   \t0.2472761571407318 \t0.015690404921770096\t0.1924208253622055 \t0.2880657911300659 \n",
      "4  \t128   \t0.25754493474960327\t0.01689230650663376 \t0.19267140328884125\t0.29882556200027466\n",
      "5  \t135   \t0.2692168056964874 \t0.012168565765023232\t0.23884747922420502\t0.2999197840690613 \n",
      "6  \t123   \t0.27774155139923096\t0.014167776331305504\t0.2263713777065277 \t0.3057630658149719 \n",
      "7  \t131   \t0.28661468625068665\t0.012937886640429497\t0.2407437115907669 \t0.3217742443084717 \n",
      "8  \t134   \t0.294570654630661  \t0.011775455437600613\t0.25575974583625793\t0.33043569326400757\n",
      "9  \t130   \t0.30372515320777893\t0.013373114168643951\t0.2490053027868271 \t0.3370915949344635 \n",
      "10 \t130   \t0.31341856718063354\t0.01041384320706129 \t0.28651416301727295\t0.3427397608757019 \n",
      "11 \t122   \t0.3203658163547516 \t0.012178088538348675\t0.26150739192962646\t0.3492084741592407 \n",
      "12 \t132   \t0.3275611996650696 \t0.011946752667427063\t0.2577708959579468 \t0.3492084741592407 \n",
      "13 \t125   \t0.3353309631347656 \t0.009146877564489841\t0.2968132495880127 \t0.35752952098846436\n",
      "14 \t141   \t0.33892327547073364\t0.009335185401141644\t0.30750519037246704\t0.36024147272109985\n",
      "15 \t138   \t0.3438907265663147 \t0.011086308397352695\t0.2827015817165375 \t0.3693881034851074 \n",
      "16 \t119   \t0.35037684440612793\t0.009982859715819359\t0.3053044080734253 \t0.3693881034851074 \n",
      "17 \t132   \t0.3552173674106598 \t0.009823963046073914\t0.30725598335266113\t0.37524479627609253\n",
      "18 \t132   \t0.36073437333106995\t0.01008437667042017 \t0.3215760886669159 \t0.3795233964920044 \n",
      "19 \t143   \t0.36733514070510864\t0.008022786118090153\t0.3266242742538452 \t0.3806215524673462 \n",
      "20 \t131   \t0.37107032537460327\t0.008087843656539917\t0.33427679538726807\t0.3902643024921417 \n",
      "21 \t119   \t0.372842013835907  \t0.010529295541346073\t0.31255725026130676\t0.3902643024921417 \n",
      "22 \t117   \t0.3749741017818451 \t0.01174414623528719 \t0.32577210664749146\t0.39095890522003174\n",
      "23 \t138   \t0.3801266551017761 \t0.009613768197596073\t0.3316081762313843 \t0.3956938683986664 \n",
      "24 \t145   \t0.3825729489326477 \t0.009345796890556812\t0.3275659680366516 \t0.3956938683986664 \n",
      "25 \t127   \t0.3850264847278595 \t0.010475321672856808\t0.3248719274997711 \t0.3957839012145996 \n",
      "26 \t106   \t0.38970378041267395\t0.005051974207162857\t0.3576016426086426 \t0.39751070737838745\n",
      "27 \t138   \t0.3918827176094055 \t0.003847797866910696\t0.36628809571266174\t0.4014629125595093 \n",
      "28 \t129   \t0.393393874168396  \t0.004920566454529762\t0.3539631962776184 \t0.40341299772262573\n",
      "29 \t130   \t0.3944680690765381 \t0.005402848590165377\t0.35628342628479004\t0.40464916825294495\n",
      "30 \t136   \t0.39705756306648254\t0.004491404630243778\t0.3758726119995117 \t0.40464916825294495\n",
      "31 \t126   \t0.3993209898471832 \t0.004779383074492216\t0.3690115809440613 \t0.4077058732509613 \n",
      "32 \t123   \t0.401262104511261  \t0.005169415380805731\t0.3710942268371582 \t0.4077058732509613 \n",
      "33 \t121   \t0.4029461741447449 \t0.004445287398993969\t0.37361443042755127\t0.41000044345855713\n",
      "34 \t131   \t0.40417593717575073\t0.003335115034133196\t0.38419902324676514\t0.41000044345855713\n",
      "35 \t126   \t0.4053129553794861 \t0.0031358858104795218\t0.39061683416366577\t0.41015517711639404\n",
      "36 \t135   \t0.4065875709056854 \t0.0033525528851896524\t0.3876820206642151 \t0.41015517711639404\n",
      "37 \t129   \t0.40673768520355225\t0.007297031581401825 \t0.33217188715934753\t0.41285499930381775\n",
      "38 \t134   \t0.4084842801094055 \t0.0040096715092659   \t0.3829289674758911 \t0.414301335811615  \n",
      "39 \t130   \t0.40952014923095703\t0.003917837515473366 \t0.37383490800857544\t0.414301335811615  \n",
      "40 \t128   \t0.409842312335968  \t0.006300261709839106 \t0.3481472134590149 \t0.41431155800819397\n",
      "41 \t130   \t0.4120303988456726 \t0.003579169511795044 \t0.39141207933425903\t0.4146193265914917 \n",
      "42 \t134   \t0.4130517840385437 \t0.0027967493515461683\t0.4012666344642639 \t0.4188281297683716 \n",
      "43 \t131   \t0.41348618268966675\t0.0054947189055383205\t0.34802472591400146\t0.41884228587150574\n",
      "44 \t140   \t0.41368788480758667\t0.0036245149094611406\t0.3804916739463806 \t0.42115718126296997\n",
      "45 \t120   \t0.4142467975616455 \t0.0042390767484903336\t0.3839099407196045 \t0.42115718126296997\n",
      "46 \t131   \t0.4164620339870453 \t0.0041498225182294846\t0.39312511682510376\t0.4224679172039032 \n",
      "47 \t133   \t0.41760575771331787\t0.00543983094394207  \t0.37642702460289   \t0.4234923720359802 \n",
      "48 \t128   \t0.4192732870578766 \t0.0036316863261163235\t0.40187889337539673\t0.42491358518600464\n",
      "49 \t141   \t0.4198002219200134 \t0.006449590902775526 \t0.37158262729644775\t0.42698413133621216\n",
      "50 \t131   \t0.4199562072753906 \t0.009047193452715874 \t0.358399897813797  \t0.42868009209632874\n",
      "51 \t123   \t0.4212161600589752 \t0.007707610260695219 \t0.37918952107429504\t0.4276961386203766 \n",
      "52 \t134   \t0.4228200614452362 \t0.0070604560896754265\t0.36826765537261963\t0.429281622171402  \n",
      "53 \t136   \t0.4243488609790802 \t0.0068247681483626366\t0.3629309833049774 \t0.429281622171402  \n",
      "54 \t137   \t0.4255605638027191 \t0.006701644975692034 \t0.36685046553611755\t0.43046680092811584\n",
      "55 \t149   \t0.4247472882270813 \t0.011649085208773613 \t0.36703431606292725\t0.43046680092811584\n",
      "56 \t119   \t0.4262286424636841 \t0.009767268784344196 \t0.36708077788352966\t0.43046680092811584\n",
      "57 \t135   \t0.42704278230667114\t0.009541485458612442 \t0.36708077788352966\t0.4328244626522064 \n",
      "58 \t97    \t0.42729178071022034\t0.010345661081373692 \t0.35585346817970276\t0.4328244626522064 \n",
      "59 \t131   \t0.42805254459381104\t0.010615703649818897 \t0.3587201237678528 \t0.4328244626522064 \n",
      "60 \t126   \t0.4291732907295227 \t0.006053098943084478 \t0.37858694791793823\t0.4342578053474426 \n",
      "61 \t120   \t0.42979440093040466\t0.004931293893605471 \t0.39931216835975647\t0.4342578053474426 \n",
      "62 \t137   \t0.42949795722961426\t0.007301982492208481 \t0.37065744400024414\t0.4342578053474426 \n",
      "63 \t123   \t0.4304674565792084 \t0.005953842308372259 \t0.3997376263141632 \t0.4348331391811371 \n",
      "64 \t132   \t0.4323267638683319 \t0.004640234634280205 \t0.4010201096534729 \t0.4348331391811371 \n",
      "65 \t127   \t0.4322909414768219 \t0.006272340193390846 \t0.37358397245407104\t0.4348331391811371 \n",
      "66 \t124   \t0.4323751926422119 \t0.00554227689281106  \t0.39832839369773865\t0.4348331391811371 \n",
      "67 \t127   \t0.43197953701019287\t0.006141421850770712 \t0.40157419443130493\t0.4348331391811371 \n",
      "68 \t127   \t0.43224990367889404\t0.006995636969804764 \t0.3808743357658386 \t0.4356533885002136 \n",
      "69 \t138   \t0.4325999319553375 \t0.006677074357867241 \t0.3891947865486145 \t0.4356533885002136 \n",
      "70 \t122   \t0.43380433320999146\t0.004942357074469328 \t0.38042789697647095\t0.4356533885002136 \n",
      "71 \t137   \t0.4334156811237335 \t0.006021545734256506 \t0.38042789697647095\t0.4356533885002136 \n",
      "72 \t142   \t0.43328315019607544\t0.004986772779375315 \t0.4046227037906647 \t0.4356533885002136 \n",
      "73 \t130   \t0.43380972743034363\t0.004732831846922636 \t0.401073157787323  \t0.4356533885002136 \n",
      "74 \t123   \t0.4333771765232086 \t0.006082312203943729 \t0.3916022777557373 \t0.4357040822505951 \n",
      "75 \t116   \t0.4344320297241211 \t0.004343842156231403 \t0.39198458194732666\t0.4357040822505951 \n",
      "76 \t127   \t0.4349396228790283 \t0.002778358291834593 \t0.4124416708946228 \t0.43623706698417664\n",
      "77 \t127   \t0.4347085952758789 \t0.003468868089839816 \t0.4141393303871155 \t0.43661394715309143\n",
      "78 \t134   \t0.434198796749115  \t0.00527252908796072  \t0.3929441571235657 \t0.43739739060401917\n",
      "79 \t123   \t0.4344474673271179 \t0.006530277896672487 \t0.36148226261138916\t0.43739739060401917\n",
      "80 \t128   \t0.4352026879787445 \t0.004131694789975882 \t0.40780162811279297\t0.43739739060401917\n",
      "81 \t124   \t0.4351988136768341 \t0.005856779869645834 \t0.38286203145980835\t0.43739739060401917\n",
      "82 \t129   \t0.4351339042186737 \t0.006903022527694702 \t0.37853938341140747\t0.4378610849380493 \n",
      "83 \t134   \t0.4351271092891693 \t0.007128977682441473 \t0.3680720925331116 \t0.4378610849380493 \n",
      "84 \t125   \t0.43558067083358765\t0.006919478997588158 \t0.3713454604148865 \t0.4378610849380493 \n",
      "85 \t140   \t0.4360579550266266 \t0.00582717964425683  \t0.3997518718242645 \t0.4378610849380493 \n",
      "86 \t126   \t0.4364226460456848 \t0.0047113955952227116\t0.4086867868900299 \t0.4386488199234009 \n",
      "87 \t134   \t0.4367302656173706 \t0.003981401212513447 \t0.4121168851852417 \t0.4386488199234009 \n",
      "88 \t119   \t0.4358084797859192 \t0.007384267635643482 \t0.3876989781856537 \t0.4386488199234009 \n",
      "89 \t125   \t0.43686217069625854\t0.004806423094123602 \t0.39264434576034546\t0.4386488199234009 \n",
      "90 \t103   \t0.43732398748397827\t0.006023600231856108 \t0.36646151542663574\t0.4386488199234009 \n",
      "91 \t139   \t0.4371011257171631 \t0.006648601032793522 \t0.3701615035533905 \t0.4386488199234009 \n",
      "92 \t125   \t0.4374193549156189 \t0.005829824134707451 \t0.3725839853286743 \t0.4386488199234009 \n",
      "93 \t117   \t0.43723854422569275\t0.004838235676288605 \t0.40726399421691895\t0.4386488199234009 \n",
      "94 \t120   \t0.4372926950454712 \t0.004996607545763254 \t0.3973503112792969 \t0.4386488199234009 \n",
      "95 \t134   \t0.43783560395240784\t0.0033865165896713734\t0.4114561378955841 \t0.4386488199234009 \n",
      "96 \t131   \t0.4369850158691406 \t0.006128462962806225 \t0.3897785544395447 \t0.4386488199234009 \n",
      "97 \t127   \t0.4378868043422699 \t0.003136575920507312 \t0.4141788184642792 \t0.4386488199234009 \n",
      "98 \t157   \t0.43739554286003113\t0.004698146600276232 \t0.41079476475715637\t0.43867793679237366\n",
      "99 \t119   \t0.43778327107429504\t0.0038616724777966738\t0.4069409966468811 \t0.43867793679237366\n",
      "100\t127   \t0.43604201078414917\t0.008562947623431683 \t0.370735228061676  \t0.4400259852409363 \n"
     ]
    }
   ],
   "source": [
    "creator.create(\"FitnessMax\", base.Fitness, weights=(1.0,))\n",
    "creator.create(\"Individuo\", list, fitness=creator.FitnessMax)\n",
    "\n",
    "toolbox = base.Toolbox()\n",
    "\n",
    "toolbox.register(\"cria_gene\", gene_cnb_aminoacidos, aminoacidos)\n",
    "\n",
    "toolbox.register(\"cria_individuo\", cria_individuo_tamanho_variavel, NUM_MIN_AMINOACIDOS, NUM_MAX_AMINOACIDOS)\n",
    "\n",
    "toolbox.register(\n",
    "    \"populacao\", tools.initRepeat, list, toolbox.cria_individuo, TAMANHO_POPULACAO\n",
    ")\n",
    "\n",
    "toolbox.register(\"evaluate\", funcao_objetivo)\n",
    "\n",
    "toolbox.register(\n",
    "    \"select\", tools.selTournament, tournsize=TAMANHO_TORNEIO\n",
    ")\n",
    "\n",
    "toolbox.register(\"mate\", tools.cxTwoPoint)\n",
    "\n",
    "toolbox.register(\n",
    "    \"mutate\",\n",
    "    mutacao_indel,\n",
    "    max_indel_size=TAMANHO_MAXIMO_INDEL,\n",
    "    aminoacidos_permitidos=aminoacidos,\n",
    "    min_genes = NUM_MIN_AMINOACIDOS,\n",
    ")\n",
    "\n",
    "hall_da_fama = tools.HallOfFame(TAMANHO_HALL_DA_FAMA)\n",
    "\n",
    "estatisticas = tools.Statistics(lambda ind: ind.fitness.values)\n",
    "estatisticas.register(\"média\", np.mean)\n",
    "estatisticas.register(\"desv. padrão\", np.std)\n",
    "estatisticas.register(\"min\", np.min)\n",
    "estatisticas.register(\"max\", np.max)\n",
    "\n",
    "populacao_inicial = toolbox.populacao()\n",
    "\n",
    "populacao_final, log = eaSimple(\n",
    "    populacao_inicial,\n",
    "    toolbox,\n",
    "    cxpb=CHANCE_DE_CRUZAMENTO,\n",
    "    mutpb=CHANCE_DE_MUTACAO,\n",
    "    ngen=NUM_GERACOES,\n",
    "    stats=estatisticas,\n",
    "    halloffame=hall_da_fama,\n",
    "    verbose=True,\n",
    ")"
   ]
  },
  {
   "cell_type": "markdown",
   "id": "15f93600-5340-45a2-996c-32cd431723e2",
   "metadata": {},
   "source": [
    "Observou-se a tendência de crescimento da temperatura de melting ao longo da evolução, mas sem chegar em resultados mais próximos de 1, o máximo da normalização, indicando possibilidade de estabilização em máximo local não muito relevante, de melhoria muito lenta dos indivíduos promissores, ou de falta de exploração suficiente do espaço de busca. A convergência também se tornou lenta ao final da evolução, indicando que, possivelmente, os operadores e indivíduos não foram suficientes para melhorias significativas sem muitas passagens nas últimas gerações. Considerando o RMSE da MLP, o progresso nas últimas gerações não foi efetivo. As primeiras gerações, entretanto, tiveram um progresso mais rápido.\n",
    "\n",
    "Vamos ver como ficou o hall da fama."
   ]
  },
  {
   "cell_type": "code",
   "execution_count": 32,
   "id": "3abda653-e412-4298-98cc-9fcbb208f135",
   "metadata": {},
   "outputs": [
    {
     "name": "stdout",
     "output_type": "stream",
     "text": [
      "Indivíduo 1: YRSTENRVPEDQTYYCGKEECKIYFFSRKCDKEERKTYSKVSYPYPYSYSEDCENYRGQKVFHIFPDISIYLYLNPNQHSQHDSQGPQEESHSHNSYCTDKSCSLFYSQSQYISSYIFKNQSSSHYLYLKNTGWENCFSLPKDKSFPNLQAQSWGWSCFCCTLQSPSSPSFLQGGK | Fitness: (array([[0.440026]], dtype=float32),)\n",
      "Indivíduo 2: YRSTENRVPEDQTYYCGKEECKIYFFSRKCDKEERKTYSKVSYPYPYSYSEDCENYRGQKVFHIFPDISIYLYLNPNQHSQHDSQGPQEESHSHSYCTDKSCSLFYSQSQYISSHYIFKNQSSSHYLYLKNTGWENCFSLPKDKSFPNLQAQSWGWSCFCCTLQSPSSPSFLYIYSSPLQGGK | Fitness: (array([[0.4394708]], dtype=float32),)\n",
      "Indivíduo 3: YRSTENRVPEDQTYYCGKEECKIYFFSRKCDKEERKTYSKVSYPYPYSYSEDCENYRGQKVFHIFPDISIYLYLNPNQHSQHDSQGPQEESHSHNSYCTDKSCSLFYSQSQYISSHYIFKNQSSSHYLYLKNTGWENCFSLPKDKSFPNLQAQSWGWSCFCCTLQSPSSPSFLQGGK | Fitness: (array([[0.43867794]], dtype=float32),)\n"
     ]
    }
   ],
   "source": [
    "for i, individuo in enumerate(hall_da_fama):\n",
    "    sequencia = ''.join(individuo)\n",
    "    print(f\"Indivíduo {i+1}: {sequencia} | Fitness: {individuo.fitness.values}\")"
   ]
  },
  {
   "cell_type": "markdown",
   "id": "c24d6500-9140-4465-b45a-a465bb3182d4",
   "metadata": {},
   "source": [
    "Os 3 indivíduos conservados ao final com melhor fitness apresentam sequências muito parecidas, o que indica que provavelmente foi um máximo local encontrado pelo AG que passou por algumas mutações, mas não foi modificado o suficiente para possivelmente atingir um fitness melhor."
   ]
  },
  {
   "cell_type": "markdown",
   "id": "ba7e1488",
   "metadata": {},
   "source": [
    "## Discussões\n",
    "\n",
    "Observando a MLP apresentada, foi possível otimizar seus hiperparâmetros e treinar a rede obtendo um erro (RMSE) razoável para os dados de teste. Espera-se que um dos problemas mais importantes quanto ao treinamento da rede foi com relação à baixa amostragem dos dados, escolhida dado o tempo disponível para conclusão do trabalho. Além disso, estratégias para lidar melhor com a alta dimensionalidade dos atributos (vetores representativos das sequências de aminoácidos) na RN podem ser aplicados em aprimoramentos.\n",
    "\n",
    "A evolução dirigida conduzida *in silico* por AG, no entanto, apresentou desempenho subótimo, não atingindo valores altos preditos com relação à escala das temperaturas de *melting* de treino. Provavelmente, melhorias na sua estrutura e operadores genéticos visando amostragem mais variada, fuga de mínimos locais rasos e melhoria mais rápida de indivíduos promissores seria benéfica a uma resolução melhor do problema apresentado. \n",
    "\n",
    "Outra questão importante é a viabilidade dos nossos resultados: como não sabemos se as sequências geradas enovelam, é necessário aplicar técnicas para aumentar a probabilidade de viabilidade das sequências para melhora da usabilidade dos resultados para *design de proteínas* em um trabalho futuro."
   ]
  },
  {
   "cell_type": "markdown",
   "id": "1c2a10fb",
   "metadata": {},
   "source": [
    "## Referências\n",
    "\n",
    "[[1]](https://doi.org/10.1101/2020.07.12.199554) ELNAGGAR, A. et al. ProtTrans: Towards Cracking the Language of Life’s Code Through Self-Supervised Deep Learning and High Performance Computing. 12 jul. 2020. Disponível em: <https://doi.org/10.1101/2020.07.12.199554>.\n",
    "\n",
    "[[2]](https://optuna.org/) Optuna - A hyperparameter optimization framework. Disponível em: <https://optuna.org/>.\n",
    "\n",
    "[[3]](https://www.nature.com/articles/s41598-025-98667-9) TIJARE, P.; KUMAR, N.; RAGHAVA, G. P. S. Prediction and design of thermostable proteins with a desired melting temperature. Scientific Reports, v. 15, n. 1, 14 maio 2025. Disponível em:<https://www.nature.com/articles/s41598-025-98667-9>.\n",
    "\n",
    "[[4]](https://doi.org/10.1016/j.jtbi.2008.11.005) WEDGE, D. C. et al. In silico modelling of directed evolution: Implications for experimental design and stepwise evolution. Journal of Theoretical Biology, v. 257, n. 1, p. 131–141, mar. 2009. Disponível em: <https://doi.org/10.1016/j.jtbi.2008.11.005>.\n",
    "\n",
    "[5] CASSAR, Daniel Roberto. Redes Neurais e Algoritmos Genéticos. Campinas: Ilum - Escola de Ciência (CNPEM), jun. 2025. Material didático do professor Daniel Roberto Cassar para a disciplina de Redes Neurais e Algoritmos Genéticos do 3º semestre do Bacharelado em Ciência e Tecnologia da Ilum - Escola de Ciência (CNPEM).\n",
    "\n",
    "[[6]](https://deap.readthedocs.io/en/master/) DEAP documentation — DEAP 1.3.0 documentation. Disponível em: <https://deap.readthedocs.io/en/master/>.\n",
    "\n",
    "[[7]](https://doi.org/10.1093/protein/gzg077) FOX, R. et al. Optimizing the search algorithm for protein engineering by directed evolution. Protein Engineering Design & Selection, v. 16, n. 8, p. 589–597, 1 ago. 2003. Disponível em: <https://doi.org/10.1093/protein/gzg077>."
   ]
  },
  {
   "cell_type": "code",
   "execution_count": null,
   "id": "e733fe5e",
   "metadata": {},
   "outputs": [],
   "source": []
  }
 ],
 "metadata": {
  "kernelspec": {
   "display_name": "Python 3 (ipykernel)",
   "language": "python",
   "name": "python3"
  },
  "language_info": {
   "codemirror_mode": {
    "name": "ipython",
    "version": 3
   },
   "file_extension": ".py",
   "mimetype": "text/x-python",
   "name": "python",
   "nbconvert_exporter": "python",
   "pygments_lexer": "ipython3",
   "version": "3.11.7"
  }
 },
 "nbformat": 4,
 "nbformat_minor": 5
}
